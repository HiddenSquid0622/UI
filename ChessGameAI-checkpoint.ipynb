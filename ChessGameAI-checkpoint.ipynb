{
 "cells": [
  {
   "cell_type": "code",
   "execution_count": 1,
   "id": "91074ca4-579f-4648-9ff5-79fbcff6b759",
   "metadata": {},
   "outputs": [],
   "source": [
    "import pandas as pd\n",
    "import numpy as ns\n",
    "import matplotlib.pyplot as plt"
   ]
  },
  {
   "cell_type": "code",
   "execution_count": 2,
   "id": "3a27f4f2-8dbc-4e32-85ce-de0def917521",
   "metadata": {},
   "outputs": [],
   "source": [
    "board = [\n",
    "    [\"r\", \"kn\", \"b\", \"q\", \"k\", \"b\", \"kn\", \"r\"], #black\n",
    "    [\"p\", \"p\", \"p\", \"p\", \"p\", \"p\", \"p\", \"p\"],\n",
    "    [\"\", \"\", \"\", \"\", \"\", \"\", \"\", \"\"],\n",
    "    [\"\", \"\", \"\", \"\", \"\", \"\", \"\", \"\"],\n",
    "    [\"\", \"\", \"\", \"\", \"\", \"\", \"\", \"\"],\n",
    "    [\"\", \"\", \"\", \"\", \"\", \"\", \"\", \"\"],\n",
    "    [\"P\", \"P\", \"P\", \"P\", \"P\", \"P\", \"P\", \"P\"],\n",
    "    [\"R\", \"KN\", \"B\", \"Q\", \"K\", \"B\", \"KN\", \"R\"] #white\n",
    "]"
   ]
  },
  {
   "cell_type": "code",
   "execution_count": 3,
   "id": "0900f9a5-cd40-42cc-a510-697943ab72db",
   "metadata": {},
   "outputs": [
    {
     "name": "stdout",
     "output_type": "stream",
     "text": [
      "pygame 2.6.1 (SDL 2.28.4, Python 3.12.3)\n",
      "Hello from the pygame community. https://www.pygame.org/contribute.html\n"
     ]
    }
   ],
   "source": [
    "]\n",
    "import pygame\n",
    "import sys\n",
    "\n",
    "BOARD_SIZE = 8\n",
    "SQUARE_SIZE = 80  # Size of each square\n",
    "SCREEN_SIZE = BOARD_SIZE * SQUARE_SIZE\n",
    "LIGHT_COLOR = (220,220,220)\n",
    "DARK_COLOR = (0,0,0)\n",
    "pygame.init()\n",
    "screen = pygame.display.set_mode((SCREEN_SIZE, SCREEN_SIZE))\n",
    "pygame.display.set_caption(\"Chessboard UI\")\n",
    "def draw_chessboard():\n",
    "    for row in range(BOARD_SIZE):\n",
    "        for col in range(BOARD_SIZE):\n",
    "            color = LIGHT_COLOR if (row + col) % 2 == 0 else DARK_COLOR\n",
    "            pygame.draw.rect(screen, color, pygame.Rect(col * SQUARE_SIZE, row * SQUARE_SIZE, SQUARE_SIZE, SQUARE_SIZE))\n",
    "def draw_pieces():\n",
    "    piece_positions = {\n",
    "        \"rook\": [(0, 0), (0, 7), (7, 0), (7, 7)],\n",
    "        \"knight\": [(0, 1), (0, 6), (7, 1), (7, 6)],\n",
    "        \"bishop\": [(0, 2), (0, 5), (7, 2), (7, 5)],\n",
    "        \"queen\": [(0, 3), (7, 3)],\n",
    "        \"king\": [(0, 4), (7, 4)],\n",
    "        \"pawn\": [(1, i) for i in range(8)] + [(6, i) for i in range(8)],\n",
    "    }\n",
    "    piece_images = {}\n",
    "    for piece in piece_positions:\n",
    "        img = pygame.image.load(f\"{piece}.png\")\n",
    "        img = pygame.transform.scale(img, (SQUARE_SIZE, SQUARE_SIZE))\n",
    "        piece_images[piece] = img\n",
    "    for piece, positions in piece_positions.items():\n",
    "        for row, col in positions:\n",
    "            screen.blit(piece_images[piece], (col * SQUARE_SIZE, row * SQUARE_SIZE))\n",
    "\n"
   ]
  },
  {
   "cell_type": "code",
   "execution_count": null,
   "id": "58d607bf-67e2-40d0-8152-178b7d57b393",
   "metadata": {},
   "outputs": [],
   "source": []
  },
  {
   "cell_type": "code",
   "execution_count": null,
   "id": "a719853c-1773-4d37-9239-5193d219404f",
   "metadata": {},
   "outputs": [],
   "source": []
  }
 ],
 "metadata": {
  "kernelspec": {
   "display_name": "Python 3 (ipykernel)",
   "language": "python",
   "name": "python3"
  },
  "language_info": {
   "codemirror_mode": {
    "name": "ipython",
    "version": 3
   },
   "file_extension": ".py",
   "mimetype": "text/x-python",
   "name": "python",
   "nbconvert_exporter": "python",
   "pygments_lexer": "ipython3",
   "version": "3.12.3"
  }
 },
 "nbformat": 4,
 "nbformat_minor": 5
}
